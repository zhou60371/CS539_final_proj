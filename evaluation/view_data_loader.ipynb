{
 "cells": [
  {
   "cell_type": "code",
   "execution_count": 1,
   "metadata": {},
   "outputs": [
    {
     "data": {
      "text/plain": [
       "'/home/yiqinzhao/Documents/CS539_final_proj/evaluation'"
      ]
     },
     "execution_count": 1,
     "metadata": {},
     "output_type": "execute_result"
    }
   ],
   "source": [
    "import os\n",
    "WORKING_DIR = os.getcwd()\n",
    "os.chdir(f'{WORKING_DIR}/../')\n",
    "WORKING_DIR"
   ]
  },
  {
   "cell_type": "code",
   "execution_count": 2,
   "metadata": {},
   "outputs": [],
   "source": [
    "from datasets.loader import DatasetSequence"
   ]
  },
  {
   "cell_type": "code",
   "execution_count": 3,
   "metadata": {},
   "outputs": [],
   "source": [
    "data = DatasetSequence('train')"
   ]
  },
  {
   "cell_type": "code",
   "execution_count": 10,
   "metadata": {},
   "outputs": [
    {
     "data": {
      "text/plain": [
       "(32, 500)"
      ]
     },
     "execution_count": 10,
     "metadata": {},
     "output_type": "execute_result"
    }
   ],
   "source": [
    "data[0][0][0].shape"
   ]
  },
  {
   "cell_type": "code",
   "execution_count": 10,
   "metadata": {},
   "outputs": [],
   "source": [
    "from PIL import Image"
   ]
  },
  {
   "cell_type": "code",
   "execution_count": 12,
   "metadata": {},
   "outputs": [],
   "source": [
    "img = Image.open('./datasets/train/0/image.jpg')"
   ]
  },
  {
   "cell_type": "code",
   "execution_count": 15,
   "metadata": {},
   "outputs": [],
   "source": [
    "import numpy as np\n",
    "import tensorflow as tf\n",
    "from tensorflow.keras.applications.resnet50 import preprocess_input"
   ]
  },
  {
   "cell_type": "code",
   "execution_count": 1,
   "metadata": {},
   "outputs": [
    {
     "ename": "NameError",
     "evalue": "name 'np' is not defined",
     "output_type": "error",
     "traceback": [
      "\u001b[0;31m---------------------------------------------------------------------------\u001b[0m",
      "\u001b[0;31mNameError\u001b[0m                                 Traceback (most recent call last)",
      "\u001b[0;32m/tmp/ipykernel_1917311/2998478123.py\u001b[0m in \u001b[0;36m<module>\u001b[0;34m\u001b[0m\n\u001b[0;32m----> 1\u001b[0;31m \u001b[0mnp\u001b[0m\u001b[0;34m.\u001b[0m\u001b[0masarray\u001b[0m\u001b[0;34m(\u001b[0m\u001b[0mimg\u001b[0m\u001b[0;34m)\u001b[0m\u001b[0;34m.\u001b[0m\u001b[0mshape\u001b[0m\u001b[0;34m\u001b[0m\u001b[0;34m\u001b[0m\u001b[0m\n\u001b[0m",
      "\u001b[0;31mNameError\u001b[0m: name 'np' is not defined"
     ]
    }
   ],
   "source": [
    "np.asarray(img).shape"
   ]
  },
  {
   "cell_type": "code",
   "execution_count": 34,
   "metadata": {},
   "outputs": [
    {
     "data": {
      "text/plain": [
       "array([[[ -82.939,  -70.779,  -37.68 ],\n",
       "        [ -79.939,  -69.779,  -44.68 ],\n",
       "        [ -68.939,  -64.779,  -44.68 ],\n",
       "        ...,\n",
       "        [  10.061,    7.221,   24.32 ],\n",
       "        [  47.061,   46.221,   79.32 ],\n",
       "        [  39.061,   37.221,   92.32 ]],\n",
       "\n",
       "       [[ -77.939,  -76.779,  -35.68 ],\n",
       "        [ -89.939,  -85.779,  -53.68 ],\n",
       "        [ -60.939,  -53.779,  -29.68 ],\n",
       "        ...,\n",
       "        [  -4.939,   -7.779,   15.32 ],\n",
       "        [  26.061,   28.221,   67.32 ],\n",
       "        [  45.061,   45.221,  106.32 ]],\n",
       "\n",
       "       [[ -75.939,  -86.779,  -35.68 ],\n",
       "        [ -73.939,  -73.779,  -36.68 ],\n",
       "        [ -74.939,  -64.779,  -39.68 ],\n",
       "        ...,\n",
       "        [  23.061,   21.221,   46.32 ],\n",
       "        [  43.061,   44.221,   85.32 ],\n",
       "        [  36.061,   35.221,   98.32 ]],\n",
       "\n",
       "       ...,\n",
       "\n",
       "       [[ -92.939,  -96.779,  -70.68 ],\n",
       "        [ -90.939,  -95.779,  -72.68 ],\n",
       "        [ -94.939, -102.779,  -78.68 ],\n",
       "        ...,\n",
       "        [ 146.061,   45.221,   31.32 ],\n",
       "        [ 144.061,   43.221,   30.32 ],\n",
       "        [ 143.061,   42.221,   29.32 ]],\n",
       "\n",
       "       [[ -76.939,  -62.779,  -42.68 ],\n",
       "        [ -80.939,  -69.779,  -48.68 ],\n",
       "        [ -78.939,  -70.779,  -49.68 ],\n",
       "        ...,\n",
       "        [ 142.061,   41.221,   27.32 ],\n",
       "        [ 142.061,   41.221,   28.32 ],\n",
       "        [ 141.061,   39.221,   28.32 ]],\n",
       "\n",
       "       [[ -96.939,  -87.779,  -66.68 ],\n",
       "        [-100.939,  -95.779,  -73.68 ],\n",
       "        [ -87.939,  -86.779,  -64.68 ],\n",
       "        ...,\n",
       "        [ 141.061,   40.221,   26.32 ],\n",
       "        [ 143.061,   42.221,   29.32 ],\n",
       "        [ 144.061,   42.221,   31.32 ]]])"
      ]
     },
     "execution_count": 34,
     "metadata": {},
     "output_type": "execute_result"
    }
   ],
   "source": [
    "preprocess_input(np.asarray(img).astype('float'))"
   ]
  },
  {
   "cell_type": "code",
   "execution_count": 29,
   "metadata": {},
   "outputs": [],
   "source": [
    "from PIL import Image\n",
    "from torchvision import transforms\n",
    "input_image = Image.open('./datasets/train/0/image.jpg')\n",
    "preprocess = transforms.Compose([\n",
    "    transforms.Resize(256),\n",
    "    transforms.CenterCrop(224),\n",
    "    transforms.ToTensor(),\n",
    "    transforms.Normalize(mean=[0.485, 0.456, 0.406], std=[0.229, 0.224, 0.225]),\n",
    "])"
   ]
  },
  {
   "cell_type": "code",
   "execution_count": 30,
   "metadata": {},
   "outputs": [
    {
     "data": {
      "text/plain": [
       "tensor([[[ 0.7077,  0.6734,  0.7248,  ..., -0.6281, -0.7308, -0.6452],\n",
       "         [ 0.7248,  0.6906,  0.7077,  ..., -0.7822, -0.6452, -0.5596],\n",
       "         [ 0.7419,  0.6906,  0.6734,  ..., -0.7308, -0.4568, -0.4911],\n",
       "         ...,\n",
       "         [ 0.1426, -0.0116, -0.2856,  ..., -0.8507, -0.8507, -0.9020],\n",
       "         [ 0.5193,  0.4337,  0.3309,  ..., -0.8164, -0.7650, -0.7137],\n",
       "         [ 0.5022,  0.3994,  0.3652,  ..., -0.6281, -0.6452, -0.5767]],\n",
       "\n",
       "        [[ 0.3803,  0.3627,  0.3803,  ..., -1.1779, -1.2479, -1.3004],\n",
       "         [ 0.3803,  0.3452,  0.3452,  ..., -1.2304, -1.2829, -1.2829],\n",
       "         [ 0.3803,  0.3102,  0.2927,  ..., -1.1779, -1.2479, -1.2829],\n",
       "         ...,\n",
       "         [-0.9503, -1.0028, -1.0903,  ..., -1.3880, -1.4055, -1.3880],\n",
       "         [-0.7402, -0.8803, -0.9153,  ..., -1.3529, -1.3004, -1.2129],\n",
       "         [-0.8277, -0.8627, -0.8277,  ..., -1.1253, -1.1078, -1.0903]],\n",
       "\n",
       "        [[-0.0092,  0.0779,  0.1302,  ..., -1.1770, -1.2990, -1.2990],\n",
       "         [ 0.0256,  0.0953,  0.0953,  ..., -1.2641, -1.3339, -1.1247],\n",
       "         [ 0.0605,  0.0779,  0.0605,  ..., -1.1770, -1.2641, -1.2641],\n",
       "         ...,\n",
       "         [-1.3513, -1.4733, -1.5430,  ..., -1.3513, -1.3164, -1.2641],\n",
       "         [-1.4036, -1.4733, -1.5604,  ..., -1.2816, -1.3164, -1.2990],\n",
       "         [-1.3861, -1.5081, -1.4907,  ..., -1.0724, -1.2641, -1.2816]]])"
      ]
     },
     "execution_count": 30,
     "metadata": {},
     "output_type": "execute_result"
    }
   ],
   "source": [
    "preprocess(input_image)"
   ]
  },
  {
   "cell_type": "code",
   "execution_count": null,
   "metadata": {},
   "outputs": [],
   "source": []
  }
 ],
 "metadata": {
  "interpreter": {
   "hash": "5720fb76a41ae48b4349ba63cae3183be8c7a97af06c626f8788f608c3cd961b"
  },
  "kernelspec": {
   "display_name": "Python 3.8.10 64-bit ('CS539_final_proj-sSPLvMwU': pipenv)",
   "language": "python",
   "name": "python3"
  },
  "language_info": {
   "codemirror_mode": {
    "name": "ipython",
    "version": 3
   },
   "file_extension": ".py",
   "mimetype": "text/x-python",
   "name": "python",
   "nbconvert_exporter": "python",
   "pygments_lexer": "ipython3",
   "version": "3.8.10"
  },
  "orig_nbformat": 4
 },
 "nbformat": 4,
 "nbformat_minor": 2
}
